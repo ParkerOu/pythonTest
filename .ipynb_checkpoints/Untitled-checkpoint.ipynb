{
 "cells": [
  {
   "cell_type": "code",
   "execution_count": null,
   "metadata": {},
   "outputs": [],
   "source": []
  },
  {
   "cell_type": "code",
   "execution_count": 18,
   "metadata": {},
   "outputs": [],
   "source": [
    "def get_total_page_cnt(HomeURL):\n",
    "    # URL = \"https://www.ptt.cc/bbs/Gossiping/index.html\"\n",
    "\n",
    "    custom_headers = {\n",
    "        \"cookie\": \"over18=1;\"\n",
    "    }\n",
    "\n",
    "    resp = requests.get(HomeURL, headers=custom_headers)\n",
    "\n",
    "    # ‹-> &lsaquo;\n",
    "    total_page_cnt = int(re.findall('href=\"/bbs/\\w+/index(\\d+).html\">&lsaquo; 上頁', resp.text)[0]) + 1\n",
    "    return total_page_cnt"
   ]
  },
  {
   "cell_type": "code",
   "execution_count": 19,
   "metadata": {
    "scrolled": true
   },
   "outputs": [
    {
     "data": {
      "text/plain": [
       "39353"
      ]
     },
     "execution_count": 19,
     "metadata": {},
     "output_type": "execute_result"
    }
   ],
   "source": [
    "get_total_page_cnt(\"https://www.ptt.cc/bbs/Gossiping/index.html\")"
   ]
  },
  {
   "cell_type": "code",
   "execution_count": null,
   "metadata": {},
   "outputs": [],
   "source": []
  },
  {
   "cell_type": "code",
   "execution_count": 21,
   "metadata": {},
   "outputs": [],
   "source": [
    "def get_list_page(url):\n",
    "    \"\"\"爬取PTT列表頁面\n",
    "\n",
    "    Parameters\n",
    "    ----------\n",
    "    url : str\n",
    "        PTT列表頁UTL，\n",
    "        如：https://www.ptt.cc/bbs/Gossiping/index31063.html\n",
    "\n",
    "    Returns\n",
    "    -------\n",
    "    list\n",
    "        頁面上所有PTT內文URL\n",
    "    \"\"\"\n",
    "    HOST = \"https://www.ptt.cc\"\n",
    "    \n",
    "    custom_headers = {\n",
    "        \"cookie\": \"over18=1;\"\n",
    "    }\n",
    "\n",
    "    resp = requests.get(url, headers=custom_headers)\n",
    "    links = re.findall('<a href=\"(/bbs/Gossiping/M.+\\.html)\">.+</a>', resp.text)\n",
    "    detail_page_links = [HOST + link for link in links]\n",
    "    return detail_page_links"
   ]
  },
  {
   "cell_type": "code",
   "execution_count": 23,
   "metadata": {},
   "outputs": [
    {
     "data": {
      "text/plain": [
       "['https://www.ptt.cc/bbs/Gossiping/M.1535596949.A.DD0.html',\n",
       " 'https://www.ptt.cc/bbs/Gossiping/M.1535596949.A.6A0.html',\n",
       " 'https://www.ptt.cc/bbs/Gossiping/M.1535596959.A.4C6.html',\n",
       " 'https://www.ptt.cc/bbs/Gossiping/M.1535596977.A.AB9.html',\n",
       " 'https://www.ptt.cc/bbs/Gossiping/M.1535596978.A.6C3.html',\n",
       " 'https://www.ptt.cc/bbs/Gossiping/M.1535597006.A.EC8.html',\n",
       " 'https://www.ptt.cc/bbs/Gossiping/M.1535597164.A.78A.html',\n",
       " 'https://www.ptt.cc/bbs/Gossiping/M.1535597172.A.164.html',\n",
       " 'https://www.ptt.cc/bbs/Gossiping/M.1535597204.A.356.html',\n",
       " 'https://www.ptt.cc/bbs/Gossiping/M.1535597230.A.6A5.html',\n",
       " 'https://www.ptt.cc/bbs/Gossiping/M.1535597264.A.F64.html',\n",
       " 'https://www.ptt.cc/bbs/Gossiping/M.1535597267.A.4C6.html',\n",
       " 'https://www.ptt.cc/bbs/Gossiping/M.1535597267.A.FCB.html',\n",
       " 'https://www.ptt.cc/bbs/Gossiping/M.1535597284.A.E42.html',\n",
       " 'https://www.ptt.cc/bbs/Gossiping/M.1535597289.A.BC8.html',\n",
       " 'https://www.ptt.cc/bbs/Gossiping/M.1535597330.A.3F6.html',\n",
       " 'https://www.ptt.cc/bbs/Gossiping/M.1535597349.A.FA9.html',\n",
       " 'https://www.ptt.cc/bbs/Gossiping/M.1535597350.A.E12.html',\n",
       " 'https://www.ptt.cc/bbs/Gossiping/M.1535597368.A.9A6.html']"
      ]
     },
     "execution_count": 23,
     "metadata": {},
     "output_type": "execute_result"
    }
   ],
   "source": [
    "get_list_page(\"https://www.ptt.cc/bbs/Gossiping/index39350.html\")"
   ]
  },
  {
   "cell_type": "code",
   "execution_count": null,
   "metadata": {},
   "outputs": [],
   "source": []
  },
  {
   "cell_type": "code",
   "execution_count": 24,
   "metadata": {},
   "outputs": [],
   "source": [
    "url = \"https://www.ptt.cc/bbs/Gossiping/M.1535597884.A.23E.html\"\n",
    "custom_headers = {\n",
    "    \"cookie\": \"over18=1;\"\n",
    "}\n",
    "\n",
    "resp = requests.get(url, headers=custom_headers)"
   ]
  },
  {
   "cell_type": "code",
   "execution_count": 26,
   "metadata": {},
   "outputs": [
    {
     "data": {
      "text/plain": [
       "[<span class=\"article-meta-value\">elfish123 (ZEXD)</span>,\n",
       " <span class=\"article-meta-value\">Gossiping</span>,\n",
       " <span class=\"article-meta-value\">Re: [問卦] 日劇到底是如何一步步被韓劇K.O.的????</span>,\n",
       " <span class=\"article-meta-value\">Thu Aug 30 10:58:02 2018</span>]"
      ]
     },
     "execution_count": 26,
     "metadata": {},
     "output_type": "execute_result"
    }
   ],
   "source": [
    "soup = BeautifulSoup(resp.text, 'lxml')\n",
    "soup.select('.article-meta-value')"
   ]
  },
  {
   "cell_type": "code",
   "execution_count": 27,
   "metadata": {},
   "outputs": [
    {
     "data": {
      "text/plain": [
       "['elfish123 (ZEXD)',\n",
       " 'Gossiping',\n",
       " 'Re: [問卦] 日劇到底是如何一步步被韓劇K.O.的????',\n",
       " 'Thu Aug 30 10:58:02 2018']"
      ]
     },
     "execution_count": 27,
     "metadata": {},
     "output_type": "execute_result"
    }
   ],
   "source": [
    "metas = [tag.text for tag in soup.select('.article-meta-value')]\n",
    "metas"
   ]
  },
  {
   "cell_type": "code",
   "execution_count": 28,
   "metadata": {},
   "outputs": [],
   "source": [
    "page = {}\n",
    "page['author']   = metas[0]\n",
    "page['board']    = metas[1]\n",
    "page['title']    = metas[2]\n",
    "page['pub_date'] = metas[3]"
   ]
  },
  {
   "cell_type": "code",
   "execution_count": 29,
   "metadata": {},
   "outputs": [
    {
     "data": {
      "text/plain": [
       "{'author': 'elfish123 (ZEXD)',\n",
       " 'board': 'Gossiping',\n",
       " 'pub_date': 'Thu Aug 30 10:58:02 2018',\n",
       " 'title': 'Re: [問卦] 日劇到底是如何一步步被韓劇K.O.的????'}"
      ]
     },
     "execution_count": 29,
     "metadata": {},
     "output_type": "execute_result"
    }
   ],
   "source": [
    "page"
   ]
  },
  {
   "cell_type": "code",
   "execution_count": null,
   "metadata": {},
   "outputs": [],
   "source": []
  },
  {
   "cell_type": "code",
   "execution_count": 30,
   "metadata": {},
   "outputs": [],
   "source": [
    "## content"
   ]
  },
  {
   "cell_type": "code",
   "execution_count": 43,
   "metadata": {},
   "outputs": [],
   "source": [
    "content = soup.select_one('div#main-content')\n",
    "selectors_to_del = ['.article-metaline',\n",
    "                   '.article-metaline-right',\n",
    "                    'span.f2',\n",
    "                    'div.push'\n",
    "                   ]\n",
    "\n",
    "for selector in selectors_to_del:\n",
    "    [tag.extract() for tag in content.select(selector)]"
   ]
  },
  {
   "cell_type": "code",
   "execution_count": 44,
   "metadata": {
    "scrolled": true
   },
   "outputs": [
    {
     "data": {
      "text/plain": [
       "<div class=\"bbs-screen bbs-content\" id=\"main-content\">\n",
       "本人生理男醫師啦，以前幾乎只看美日劇\n",
       "\n",
       "後來因為一陣子日劇荒看了一下韓劇\n",
       "\n",
       "結果沒想像中差，再也回不去日劇了\n",
       "\n",
       "\n",
       "\n",
       "1.日劇劇本多樣性太差，以前比較多元，後來\n",
       "\n",
       "幾乎沒梗，步調慢愛說教沒內涵，最後看得幾部是\n",
       "\n",
       "無間雙龍，今日子，一堆阿宅說韓劇都是婆媽劇\n",
       "\n",
       "想必是電視看太多，亞洲戲劇大概只有韓國比較\n",
       "\n",
       "接近美劇的程度，想看較為兇殘的劇本又暫時想看\n",
       "\n",
       "亞洲人主演，大概只有韓劇\n",
       "\n",
       "\n",
       "\n",
       "2.演員青黃不接，以前日劇演員陣容豐富，但是現在\n",
       "\n",
       "根本沒什麼人選，除了小栗旬，生田斗真外貌體型較\n",
       "\n",
       "優，其他人能看嗎？ 我身高188實在無法投射在星野\n",
       "\n",
       "園上面，其他就靠arashi稱，但他們也30+\n",
       "\n",
       "女演員也慢慢進入尾聲了，新生代那種大餅臉你可以?\n",
       "\n",
       "有朴信惠，IU,秀智不看，看什麼大餅臉 根本超傷眼\n",
       "\n",
       "\n",
       "3.\n",
       "\n",
       "配樂等級差太多\n",
       "\n",
       "韓劇OST有特別設計過，根本上是蓄意整合好的產物\n",
       "\n",
       "相對來說水準比較高\n",
       "\n",
       "日劇的很像卡通歌，以前宇多田米西亞榮光已經結束\n",
       "\n",
       "\n",
       "\n",
       "\n",
       "\n",
       "\n",
       "\n",
       "\n",
       "\n",
       "\n",
       "\n",
       "\n",
       "\n",
       "\n",
       "\n",
       "\n",
       "\n",
       "\n",
       "\n",
       "--\n",
       "見好不收想繼續撈怪我囉？\n",
       "相對來說美劇本來就是最好看，有時候只是不想一直看歐美人才看日韓劇\n",
       "</div>"
      ]
     },
     "execution_count": 44,
     "metadata": {},
     "output_type": "execute_result"
    }
   ],
   "source": [
    "content"
   ]
  },
  {
   "cell_type": "code",
   "execution_count": null,
   "metadata": {},
   "outputs": [],
   "source": []
  },
  {
   "cell_type": "code",
   "execution_count": 45,
   "metadata": {},
   "outputs": [],
   "source": [
    "page['content'] = content.text.strip()"
   ]
  },
  {
   "cell_type": "code",
   "execution_count": 46,
   "metadata": {},
   "outputs": [
    {
     "data": {
      "text/plain": [
       "{'author': 'elfish123 (ZEXD)',\n",
       " 'board': 'Gossiping',\n",
       " 'content': '本人生理男醫師啦，以前幾乎只看美日劇\\n\\n後來因為一陣子日劇荒看了一下韓劇\\n\\n結果沒想像中差，再也回不去日劇了\\n\\n\\n\\n1.日劇劇本多樣性太差，以前比較多元，後來\\n\\n幾乎沒梗，步調慢愛說教沒內涵，最後看得幾部是\\n\\n無間雙龍，今日子，一堆阿宅說韓劇都是婆媽劇\\n\\n想必是電視看太多，亞洲戲劇大概只有韓國比較\\n\\n接近美劇的程度，想看較為兇殘的劇本又暫時想看\\n\\n亞洲人主演，大概只有韓劇\\n\\n\\n\\n2.演員青黃不接，以前日劇演員陣容豐富，但是現在\\n\\n根本沒什麼人選，除了小栗旬，生田斗真外貌體型較\\n\\n優，其他人能看嗎？ 我身高188實在無法投射在星野\\n\\n園上面，其他就靠arashi稱，但他們也30+\\n\\n女演員也慢慢進入尾聲了，新生代那種大餅臉你可以?\\n\\n有朴信惠，IU,秀智不看，看什麼大餅臉 根本超傷眼\\n\\n\\n3.\\n\\n配樂等級差太多\\n\\n韓劇OST有特別設計過，根本上是蓄意整合好的產物\\n\\n相對來說水準比較高\\n\\n日劇的很像卡通歌，以前宇多田米西亞榮光已經結束\\n\\n\\n\\n\\n\\n\\n\\n\\n\\n\\n\\n\\n\\n\\n\\n\\n\\n\\n\\n--\\n見好不收想繼續撈怪我囉？\\n相對來說美劇本來就是最好看，有時候只是不想一直看歐美人才看日韓劇',\n",
       " 'pub_date': 'Thu Aug 30 10:58:02 2018',\n",
       " 'title': 'Re: [問卦] 日劇到底是如何一步步被韓劇K.O.的????'}"
      ]
     },
     "execution_count": 46,
     "metadata": {},
     "output_type": "execute_result"
    }
   ],
   "source": [
    "page"
   ]
  }
 ],
 "metadata": {
  "kernelspec": {
   "display_name": "Python 3",
   "language": "python",
   "name": "python3"
  },
  "language_info": {
   "codemirror_mode": {
    "name": "ipython",
    "version": 3
   },
   "file_extension": ".py",
   "mimetype": "text/x-python",
   "name": "python",
   "nbconvert_exporter": "python",
   "pygments_lexer": "ipython3",
   "version": "3.6.4"
  }
 },
 "nbformat": 4,
 "nbformat_minor": 2
}
