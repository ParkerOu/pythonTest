{
 "cells": [
  {
   "cell_type": "code",
   "execution_count": 2,
   "metadata": {},
   "outputs": [],
   "source": [
    "import re\n",
    "\n",
    "urls = [\n",
    "    \"http://www.google.com/a.txt\",\n",
    "    \"http://www.google.com.tw/a.txt\",\n",
    "    \"http://www.google.com/download/c.jpg\",\n",
    "    \"http://www.google.co.jp/a.txt\",\n",
    "    \"http://www.google.com/b.txt\",\n",
    "    \"https://facebook.com/movie/b.txt\",\n",
    "    \"http://yahoo.com/123/000/c.jpg\",\n",
    "    \"http://gliacloud.com/haha.png\",\n",
    "]"
   ]
  },
  {
   "cell_type": "code",
   "execution_count": 10,
   "metadata": {},
   "outputs": [],
   "source": [
    "files = [re.findall('.+/(.+)', url)[0] for url in urls]"
   ]
  },
  {
   "cell_type": "code",
   "execution_count": 11,
   "metadata": {},
   "outputs": [
    {
     "data": {
      "text/plain": [
       "['a.txt', 'a.txt', 'c.jpg', 'a.txt', 'b.txt', 'b.txt', 'c.jpg', 'haha.png']"
      ]
     },
     "execution_count": 11,
     "metadata": {},
     "output_type": "execute_result"
    }
   ],
   "source": [
    "files"
   ]
  },
  {
   "cell_type": "code",
   "execution_count": null,
   "metadata": {},
   "outputs": [],
   "source": []
  },
  {
   "cell_type": "code",
   "execution_count": 20,
   "metadata": {},
   "outputs": [
    {
     "ename": "KeyError",
     "evalue": "'a.txt'",
     "output_type": "error",
     "traceback": [
      "\u001b[1;31m---------------------------------------------------------------------------\u001b[0m",
      "\u001b[1;31mKeyError\u001b[0m                                  Traceback (most recent call last)",
      "\u001b[1;32m<ipython-input-20-dab02f6c43ef>\u001b[0m in \u001b[0;36m<module>\u001b[1;34m()\u001b[0m\n\u001b[0;32m      1\u001b[0m \u001b[0mcount\u001b[0m \u001b[1;33m=\u001b[0m \u001b[1;33m{\u001b[0m\u001b[1;33m}\u001b[0m\u001b[1;33m\u001b[0m\u001b[0m\n\u001b[0;32m      2\u001b[0m \u001b[1;32mfor\u001b[0m \u001b[0mfile\u001b[0m \u001b[1;32min\u001b[0m \u001b[0mfiles\u001b[0m\u001b[1;33m:\u001b[0m\u001b[1;33m\u001b[0m\u001b[0m\n\u001b[1;32m----> 3\u001b[1;33m     \u001b[0mval\u001b[0m \u001b[1;33m=\u001b[0m \u001b[0mcount\u001b[0m\u001b[1;33m.\u001b[0m\u001b[0mget\u001b[0m\u001b[1;33m(\u001b[0m\u001b[0mcount\u001b[0m\u001b[1;33m[\u001b[0m\u001b[0mfile\u001b[0m\u001b[1;33m]\u001b[0m\u001b[1;33m)\u001b[0m\u001b[1;33m\u001b[0m\u001b[0m\n\u001b[0m\u001b[0;32m      4\u001b[0m     \u001b[1;32mif\u001b[0m \u001b[1;32mnot\u001b[0m \u001b[0mval\u001b[0m\u001b[1;33m:\u001b[0m\u001b[1;33m\u001b[0m\u001b[0m\n\u001b[0;32m      5\u001b[0m         \u001b[0mcount\u001b[0m\u001b[1;33m[\u001b[0m\u001b[0mfile\u001b[0m\u001b[1;33m]\u001b[0m \u001b[1;33m=\u001b[0m \u001b[1;36m1\u001b[0m\u001b[1;33m\u001b[0m\u001b[0m\n",
      "\u001b[1;31mKeyError\u001b[0m: 'a.txt'"
     ]
    }
   ],
   "source": [
    "count = {}\n",
    "for file in files:\n",
    "    val = count.get(count[file])\n",
    "    if not val:\n",
    "        count[file] = 1\n",
    "    '''\n",
    "    else:\n",
    "        count[file] = val + 1\n",
    "    '''"
   ]
  },
  {
   "cell_type": "code",
   "execution_count": null,
   "metadata": {},
   "outputs": [],
   "source": []
  },
  {
   "cell_type": "code",
   "execution_count": 35,
   "metadata": {},
   "outputs": [
    {
     "name": "stdout",
     "output_type": "stream",
     "text": [
      "count: {'a.txt': 1}\n",
      "file: a.txt\n",
      "count: {'a.txt': 1}\n",
      "file: a.txt\n",
      "count: {'a.txt': 1, 'c.jpg': 1}\n",
      "file: c.jpg\n",
      "count: {'a.txt': 1, 'c.jpg': 1}\n",
      "file: a.txt\n",
      "count: {'a.txt': 1, 'c.jpg': 1, 'b.txt': 1}\n",
      "file: b.txt\n",
      "count: {'a.txt': 1, 'c.jpg': 1, 'b.txt': 1}\n",
      "file: b.txt\n",
      "count: {'a.txt': 1, 'c.jpg': 1, 'b.txt': 1}\n",
      "file: c.jpg\n",
      "count: {'a.txt': 1, 'c.jpg': 1, 'b.txt': 1, 'haha.png': 1}\n",
      "file: haha.png\n"
     ]
    }
   ],
   "source": [
    "count = {}\n",
    "for file in files:\n",
    "    try:\n",
    "        count[file] = count.get(count[file]) + 1\n",
    "    except:\n",
    "        count[file] = 1\n",
    "        \n",
    "    print('count: ' + str(count))\n",
    "    print('file: ' + file)"
   ]
  },
  {
   "cell_type": "code",
   "execution_count": null,
   "metadata": {},
   "outputs": [],
   "source": []
  },
  {
   "cell_type": "code",
   "execution_count": null,
   "metadata": {},
   "outputs": [],
   "source": []
  },
  {
   "cell_type": "code",
   "execution_count": 23,
   "metadata": {},
   "outputs": [
    {
     "name": "stdout",
     "output_type": "stream",
     "text": [
      "nope\n"
     ]
    }
   ],
   "source": [
    "if count.get('a.txt'):\n",
    "    print('hi')\n",
    "else:\n",
    "    print('nope')"
   ]
  },
  {
   "cell_type": "code",
   "execution_count": null,
   "metadata": {},
   "outputs": [],
   "source": []
  },
  {
   "cell_type": "code",
   "execution_count": 24,
   "metadata": {},
   "outputs": [
    {
     "name": "stdout",
     "output_type": "stream",
     "text": [
      "a.txt\n",
      "a.txt\n",
      "c.jpg\n",
      "a.txt\n",
      "b.txt\n",
      "b.txt\n",
      "c.jpg\n",
      "haha.png\n"
     ]
    }
   ],
   "source": [
    "for file in files:\n",
    "    print(file)"
   ]
  },
  {
   "cell_type": "code",
   "execution_count": null,
   "metadata": {},
   "outputs": [],
   "source": []
  }
 ],
 "metadata": {
  "kernelspec": {
   "display_name": "Python 3",
   "language": "python",
   "name": "python3"
  },
  "language_info": {
   "codemirror_mode": {
    "name": "ipython",
    "version": 3
   },
   "file_extension": ".py",
   "mimetype": "text/x-python",
   "name": "python",
   "nbconvert_exporter": "python",
   "pygments_lexer": "ipython3",
   "version": "3.6.4"
  }
 },
 "nbformat": 4,
 "nbformat_minor": 2
}
